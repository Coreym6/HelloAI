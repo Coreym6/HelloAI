{
  "nbformat": 4,
  "nbformat_minor": 0,
  "metadata": {
    "colab": {
      "provenance": [],
      "authorship_tag": "ABX9TyPnKLqilscmONgSJLQ/Ai31",
      "include_colab_link": true
    },
    "kernelspec": {
      "name": "python3",
      "display_name": "Python 3"
    },
    "language_info": {
      "name": "python"
    }
  },
  "cells": [
    {
      "cell_type": "markdown",
      "metadata": {
        "id": "view-in-github",
        "colab_type": "text"
      },
      "source": [
        "<a href=\"https://colab.research.google.com/github/Coreym6/HelloAI/blob/main/Assignment5_Keras.ipynb\" target=\"_parent\"><img src=\"https://colab.research.google.com/assets/colab-badge.svg\" alt=\"Open In Colab\"/></a>"
      ]
    },
    {
      "cell_type": "code",
      "execution_count": 1,
      "metadata": {
        "colab": {
          "base_uri": "https://localhost:8080/"
        },
        "id": "Ze9IsOrGB--q",
        "outputId": "34636d78-91ce-42fe-cda4-ba8f9fb2aaf7"
      },
      "outputs": [
        {
          "output_type": "stream",
          "name": "stdout",
          "text": [
            "Downloading data from https://storage.googleapis.com/tensorflow/tf-keras-datasets/mnist.npz\n",
            "11490434/11490434 [==============================] - 0s 0us/step\n",
            "before converting... 5\n",
            "7\n",
            "after converting y... [0. 0. 0. 0. 0. 0. 0. 1. 0. 0.]\n",
            "6000/6000 [==============================] - 30s 5ms/step - loss: 0.3233 - accuracy: 0.9124 - val_loss: 0.1827 - val_accuracy: 0.9442\n",
            "Test loss: 0.18271969258785248\n",
            "Test accuracy: 0.9441999793052673\n"
          ]
        }
      ],
      "source": [
        "# based on https://www.sitepoint.com/keras-digit-recognition-tutorial/\n",
        "\n",
        "import tensorflow as tf\n",
        "from tensorflow import keras\n",
        "from tensorflow.keras import layers\n",
        "import keras.datasets.mnist as kdm\n",
        "from keras.utils import to_categorical\n",
        "\n",
        "# tf.config.set_visible_devices([], 'GPU') # if you have an m1/m2 mac, uncomment this line to run wayyyy faster if you have local install of jupyter. leave commented if you are running on google colab \n",
        "\n",
        "(x_train, y_train), (x_test, y_test) = kdm.load_data()\n",
        "assert x_train.shape == (60000, 28, 28)\n",
        "assert x_test.shape == (10000, 28, 28)\n",
        "assert y_train.shape == (60000,)\n",
        "assert y_test.shape == (10000,)\n",
        "\n",
        "print(\"before converting...\", y_train[0])\n",
        "\n",
        "# reshape\n",
        "img_rows, img_cols = 28, 28\n",
        "# normalize inputs to between 0 and 1\n",
        "import numpy as np\n",
        "x_train = np.true_divide(x_train, 255)\n",
        "x_test = np.true_divide(x_test, 255)\n",
        "x_train = x_train.reshape(x_train.shape[0], img_rows, img_cols, 1)\n",
        "x_test = x_test.reshape(x_test.shape[0], img_rows, img_cols, 1)\n",
        "print(y_test[0])\n",
        "\n",
        "# convert to vector outputs \n",
        "num_classes = 10\n",
        "y_train = to_categorical(y_train, num_classes)\n",
        "y_test = to_categorical(y_test, num_classes)\n",
        "print(\"after converting y...\", y_test[0])\n",
        "\n",
        "model = keras.models.Sequential([\n",
        "  layers.Flatten(input_shape=(28,28)),\n",
        "  layers.Dense(100, activation='sigmoid'),\n",
        "  layers.Dense(10, activation='softmax')\n",
        "])\n",
        "\n",
        "model.compile(loss='categorical_crossentropy',\n",
        "      optimizer='adam',\n",
        "      metrics=['accuracy'])\n",
        "\n",
        "model.fit(x_train, y_train,\n",
        "          batch_size=10,\n",
        "          epochs=1,\n",
        "          verbose=1,\n",
        "          validation_data=(x_test, y_test))\n",
        "score = model.evaluate(x_test, y_test, verbose=0)\n",
        "\n",
        "print('Test loss:', score[0])\n",
        "print('Test accuracy:', score[1])\n",
        "model.save(\"test_model.h5\")"
      ]
    },
    {
      "cell_type": "code",
      "source": [
        "def findTroublesomeImageKERAS(model, x_test):\n",
        "  worsta = 1\n",
        "  worsti = 0\n",
        "  for i in range(len(x_test)):\n",
        "    prediction = model.predict(x_test[i:i+1], verbose=False)\n",
        "    max_a = np.max(prediction)\n",
        "    if max_a < worsta:\n",
        "      worsta = max_a\n",
        "      worsti = i\n",
        "  return (worsta, worsti)"
      ],
      "metadata": {
        "id": "P1Px-pfHCdCr"
      },
      "execution_count": 2,
      "outputs": []
    },
    {
      "cell_type": "code",
      "source": [
        "print(score)\n",
        "#print(x_test[768])\n",
        "a = model.predict(x_test[768:769])\n",
        "print(a)\n",
        "print(y_test[768])\n",
        "troublesome = findTroublesomeImageKERAS(model, x_test)\n",
        "print(troublesome)"
      ],
      "metadata": {
        "colab": {
          "base_uri": "https://localhost:8080/"
        },
        "id": "DVM-LfxICeYk",
        "outputId": "cd274748-ddd4-466c-e9ad-b21c02ba5fdb"
      },
      "execution_count": 3,
      "outputs": [
        {
          "output_type": "stream",
          "name": "stdout",
          "text": [
            "[0.18271969258785248, 0.9441999793052673]\n",
            "1/1 [==============================] - 0s 102ms/step\n",
            "[[3.6923069e-08 9.9892116e-01 7.0862494e-05 3.3506396e-04 4.3288687e-06\n",
            "  8.9573194e-05 7.2501025e-05 4.4437325e-05 4.3144973e-04 3.0578278e-05]]\n",
            "[0. 1. 0. 0. 0. 0. 0. 0. 0. 0.]\n",
            "(0.2427913, 1941)\n"
          ]
        }
      ]
    },
    {
      "cell_type": "code",
      "source": [
        "worsti = troublesome[1]\n",
        "a = model.predict(x_test[worsti:worsti+1])\n",
        "print(a)\n",
        "import matplotlib.pyplot as plt\n",
        "plt.figure()\n",
        "plt.imshow(np.reshape(x_test[worsti], (28,28)),cmap=\"gray_r\")"
      ],
      "metadata": {
        "colab": {
          "base_uri": "https://localhost:8080/",
          "height": 515
        },
        "id": "0jKQJ5LzCfnP",
        "outputId": "8e36fb8b-fe1b-4188-d46a-32061a8a220f"
      },
      "execution_count": 4,
      "outputs": [
        {
          "output_type": "stream",
          "name": "stdout",
          "text": [
            "1/1 [==============================] - 0s 49ms/step\n",
            "[[7.77481264e-03 1.36018905e-04 1.72712907e-01 1.74184839e-04\n",
            "  1.64082512e-01 2.42791295e-01 1.15140073e-03 2.15572357e-01\n",
            "  1.23446375e-01 7.21581802e-02]]\n"
          ]
        },
        {
          "output_type": "execute_result",
          "data": {
            "text/plain": [
              "<matplotlib.image.AxesImage at 0x7f3d97f50580>"
            ]
          },
          "metadata": {},
          "execution_count": 4
        },
        {
          "output_type": "display_data",
          "data": {
            "text/plain": [
              "<Figure size 640x480 with 1 Axes>"
            ],
            "image/png": "[encoded data removed]"
          },
          "metadata": {}
        }
      ]
    },
    {
      "cell_type": "code",
      "source": [
        "def dec_to_binvector4(dec):\n",
        "  binstr = \"{0:04b}\".format(int(dec))\n",
        "  binvect = []\n",
        "  for b in binstr:\n",
        "    binvect.append(int(b))\n",
        "  return binvect\n",
        "\n",
        "# expects y_data to be a list of nonnegative integer numbers (e.g., 0, 1, 2, 3)\n",
        "# returns the binary representation of each y using the specified number of bits\n",
        "def to_binary(y_data):\n",
        "  return [np.array(dec_to_binvector4(y)).reshape(4, 1) for y in y_data]\n",
        "\n",
        "print(dec_to_binvector4(7))"
      ],
      "metadata": {
        "colab": {
          "base_uri": "https://localhost:8080/"
        },
        "id": "RF1vsTPDDAN1",
        "outputId": "ee48dcca-2297-451a-d33d-d44744d6f82c"
      },
      "execution_count": 5,
      "outputs": [
        {
          "output_type": "stream",
          "name": "stdout",
          "text": [
            "[0, 1, 1, 1]\n"
          ]
        }
      ]
    },
    {
      "cell_type": "code",
      "source": [
        "# based on https://www.sitepoint.com/keras-digit-recognition-tutorial/\n",
        "\n",
        "import tensorflow as tf\n",
        "from tensorflow import keras\n",
        "from tensorflow.keras import layers\n",
        "import keras.datasets.mnist as kdm\n",
        "from keras.utils import to_categorical\n",
        "\n",
        "\n",
        "(x_train, y_train), (x_test, y_test) = kdm.load_data()\n",
        "\n",
        "\n",
        "# reshape\n",
        "img_rows, img_cols = 28, 28\n",
        "# normalize inputs to between 0 and 1\n",
        "import numpy as np\n",
        "x_train = np.true_divide(x_train, 255)\n",
        "x_test = np.true_divide(x_test, 255)\n",
        "x_train = x_train.reshape(x_train.shape[0], img_rows, img_cols, 1)\n",
        "x_test = x_test.reshape(x_test.shape[0], img_rows, img_cols, 1)\n",
        "\n",
        "# convert to vector outputs \n",
        "num_classes = 10\n",
        "y_train = to_binary(y_train)\n",
        "y_test = to_binary(y_test)\n",
        "\n",
        "y_train = np.array(y_train).reshape(60000, 4)\n",
        "y_test = np.array(y_test).reshape(10000, 4)\n",
        "\n",
        "model = keras.models.Sequential([\n",
        "  layers.Flatten(input_shape=(28,28)),\n",
        "  layers.Dense(100, activation='sigmoid'),\n",
        "  layers.Dense(10, activation='sigmoid'),\n",
        "  layers.Dense(4, activation='sigmoid'),\n",
        "])\n",
        "\n",
        "model.compile(loss='mean_squared_error',\n",
        "      optimizer='adam',\n",
        "      metrics=['accuracy'])\n",
        "\n",
        "model.fit(x_train, y_train,\n",
        "          batch_size=10,\n",
        "          epochs=30,\n",
        "          verbose=1,\n",
        "          validation_data=(x_test, y_test))\n",
        "score = model.evaluate(x_test, y_test, verbose=0)\n",
        "\n",
        "print('Test loss:', score[0])\n",
        "print('Test accuracy:', score[1])\n",
        "model.save(\"test_model.h5\")"
      ],
      "metadata": {
        "colab": {
          "base_uri": "https://localhost:8080/"
        },
        "id": "PfQmRy9EDHIA",
        "outputId": "b0d62409-9075-4bb2-ec82-a847ca72c6ec"
      },
      "execution_count": 6,
      "outputs": [
        {
          "output_type": "stream",
          "name": "stdout",
          "text": [
            "Epoch 1/30\n",
            "6000/6000 [==============================] - 27s 4ms/step - loss: 0.0670 - accuracy: 0.4956 - val_loss: 0.0290 - val_accuracy: 0.5918\n",
            "Epoch 2/30\n",
            "6000/6000 [==============================] - 24s 4ms/step - loss: 0.0227 - accuracy: 0.5411 - val_loss: 0.0202 - val_accuracy: 0.5217\n",
            "Epoch 3/30\n",
            "6000/6000 [==============================] - 22s 4ms/step - loss: 0.0160 - accuracy: 0.5594 - val_loss: 0.0158 - val_accuracy: 0.5741\n",
            "Epoch 4/30\n",
            "6000/6000 [==============================] - 21s 4ms/step - loss: 0.0125 - accuracy: 0.5789 - val_loss: 0.0147 - val_accuracy: 0.5891\n",
            "Epoch 5/30\n",
            "6000/6000 [==============================] - 23s 4ms/step - loss: 0.0106 - accuracy: 0.5972 - val_loss: 0.0135 - val_accuracy: 0.5689\n",
            "Epoch 6/30\n",
            "6000/6000 [==============================] - 21s 4ms/step - loss: 0.0090 - accuracy: 0.5939 - val_loss: 0.0139 - val_accuracy: 0.5724\n",
            "Epoch 7/30\n",
            "6000/6000 [==============================] - 20s 3ms/step - loss: 0.0078 - accuracy: 0.6119 - val_loss: 0.0130 - val_accuracy: 0.5970\n",
            "Epoch 8/30\n",
            "6000/6000 [==============================] - 22s 4ms/step - loss: 0.0069 - accuracy: 0.6084 - val_loss: 0.0123 - val_accuracy: 0.6259\n",
            "Epoch 9/30\n",
            "6000/6000 [==============================] - 21s 4ms/step - loss: 0.0060 - accuracy: 0.6195 - val_loss: 0.0120 - val_accuracy: 0.5964\n",
            "Epoch 10/30\n",
            "6000/6000 [==============================] - 21s 4ms/step - loss: 0.0056 - accuracy: 0.6122 - val_loss: 0.0126 - val_accuracy: 0.6279\n",
            "Epoch 11/30\n",
            "6000/6000 [==============================] - 23s 4ms/step - loss: 0.0050 - accuracy: 0.6139 - val_loss: 0.0119 - val_accuracy: 0.5988\n",
            "Epoch 12/30\n",
            "6000/6000 [==============================] - 21s 4ms/step - loss: 0.0044 - accuracy: 0.6193 - val_loss: 0.0115 - val_accuracy: 0.5976\n",
            "Epoch 13/30\n",
            "6000/6000 [==============================] - 20s 3ms/step - loss: 0.0040 - accuracy: 0.6227 - val_loss: 0.0116 - val_accuracy: 0.6505\n",
            "Epoch 14/30\n",
            "6000/6000 [==============================] - 22s 4ms/step - loss: 0.0037 - accuracy: 0.6143 - val_loss: 0.0126 - val_accuracy: 0.5801\n",
            "Epoch 15/30\n",
            "6000/6000 [==============================] - 22s 4ms/step - loss: 0.0034 - accuracy: 0.6074 - val_loss: 0.0118 - val_accuracy: 0.5990\n",
            "Epoch 16/30\n",
            "6000/6000 [==============================] - 21s 4ms/step - loss: 0.0031 - accuracy: 0.6144 - val_loss: 0.0125 - val_accuracy: 0.6325\n",
            "Epoch 17/30\n",
            "6000/6000 [==============================] - 22s 4ms/step - loss: 0.0029 - accuracy: 0.6108 - val_loss: 0.0120 - val_accuracy: 0.6139\n",
            "Epoch 18/30\n",
            "6000/6000 [==============================] - 23s 4ms/step - loss: 0.0027 - accuracy: 0.6120 - val_loss: 0.0120 - val_accuracy: 0.5844\n",
            "Epoch 19/30\n",
            "6000/6000 [==============================] - 21s 3ms/step - loss: 0.0025 - accuracy: 0.6127 - val_loss: 0.0109 - val_accuracy: 0.6069\n",
            "Epoch 20/30\n",
            "6000/6000 [==============================] - 23s 4ms/step - loss: 0.0024 - accuracy: 0.6115 - val_loss: 0.0114 - val_accuracy: 0.6083\n",
            "Epoch 21/30\n",
            "6000/6000 [==============================] - 22s 4ms/step - loss: 0.0022 - accuracy: 0.6151 - val_loss: 0.0125 - val_accuracy: 0.6032\n",
            "Epoch 22/30\n",
            "6000/6000 [==============================] - 21s 3ms/step - loss: 0.0021 - accuracy: 0.6168 - val_loss: 0.0111 - val_accuracy: 0.6010\n",
            "Epoch 23/30\n",
            "6000/6000 [==============================] - 22s 4ms/step - loss: 0.0020 - accuracy: 0.6034 - val_loss: 0.0118 - val_accuracy: 0.5820\n",
            "Epoch 24/30\n",
            "6000/6000 [==============================] - 22s 4ms/step - loss: 0.0020 - accuracy: 0.6087 - val_loss: 0.0117 - val_accuracy: 0.6084\n",
            "Epoch 25/30\n",
            "6000/6000 [==============================] - 21s 4ms/step - loss: 0.0018 - accuracy: 0.6058 - val_loss: 0.0116 - val_accuracy: 0.6079\n",
            "Epoch 26/30\n",
            "6000/6000 [==============================] - 23s 4ms/step - loss: 0.0017 - accuracy: 0.5955 - val_loss: 0.0121 - val_accuracy: 0.5965\n",
            "Epoch 27/30\n",
            "6000/6000 [==============================] - 22s 4ms/step - loss: 0.0017 - accuracy: 0.5990 - val_loss: 0.0120 - val_accuracy: 0.5798\n",
            "Epoch 28/30\n",
            "6000/6000 [==============================] - 22s 4ms/step - loss: 0.0017 - accuracy: 0.5970 - val_loss: 0.0126 - val_accuracy: 0.5656\n",
            "Epoch 29/30\n",
            "6000/6000 [==============================] - 26s 4ms/step - loss: 0.0016 - accuracy: 0.5993 - val_loss: 0.0116 - val_accuracy: 0.6022\n",
            "Epoch 30/30\n",
            "6000/6000 [==============================] - 21s 4ms/step - loss: 0.0016 - accuracy: 0.5980 - val_loss: 0.0113 - val_accuracy: 0.6019\n",
            "Test loss: 0.011286873370409012\n",
            "Test accuracy: 0.6018999814987183\n"
          ]
        }
      ]
    }
  ]
}