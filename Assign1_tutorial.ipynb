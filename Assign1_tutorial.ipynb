{
  "nbformat": 4,
  "nbformat_minor": 0,
  "metadata": {
    "colab": {
      "provenance": []
    },
    "kernelspec": {
      "name": "python3",
      "display_name": "Python 3"
    },
    "language_info": {
      "name": "python"
    }
  },
  "cells": [
    {
      "cell_type": "code",
      "execution_count": 1,
      "metadata": {
        "colab": {
          "base_uri": "https://localhost:8080/"
        },
        "id": "w_UiAy4NUQiJ",
        "outputId": "f9cabe04-b19d-4f03-c08a-ba597a103097"
      },
      "outputs": [
        {
          "output_type": "stream",
          "name": "stdout",
          "text": [
            "[3 2 7]\n",
            "[1.+0.j 2.+0.j 3.+0.j]\n"
          ]
        }
      ],
      "source": [
        "import numpy as np\n",
        "list_1 = [3,2,7]\n",
        "arr_1 = np.array(list_1,dtype=np.int16)\n",
        "print(arr_1)\n",
        "arr_complex = np.array([1, 2, 3], dtype = complex)\n",
        "print(arr_complex)"
      ]
    },
    {
      "cell_type": "code",
      "source": [
        "arr_complex = np.array([1, 2, 3], dtype = complex)\n",
        "print(arr_complex)"
      ],
      "metadata": {
        "id": "gyge1jVbVxTe"
      },
      "execution_count": null,
      "outputs": []
    },
    {
      "cell_type": "code",
      "source": [
        "list_m = [[1, 2, 3], [4, 5, 6], [7, 8, 9]]\n",
        "arr_m = np.array(list_m,dtype=np.int16)\n",
        "print(arr_m)\n",
        "print (\"\")\n",
        "arr_0 = np.zeros((2,2))  \n",
        "print(arr_0)"
      ],
      "metadata": {
        "colab": {
          "base_uri": "https://localhost:8080/"
        },
        "id": "_GNSdoN4Vx9j",
        "outputId": "cd7cf202-d83d-4f34-fa18-ac30c8cb6577"
      },
      "execution_count": 4,
      "outputs": [
        {
          "output_type": "stream",
          "name": "stdout",
          "text": [
            "[[1 2 3]\n",
            " [4 5 6]\n",
            " [7 8 9]]\n",
            "\n",
            "[[0. 0.]\n",
            " [0. 0.]]\n"
          ]
        }
      ]
    },
    {
      "cell_type": "code",
      "source": [
        "arr_1= np.ones((1,2))    \n",
        "print(arr_1)\n",
        "print(\"\")\n",
        "arr_c = np.full((2,2), 7) \n",
        "print(arr_c)\n",
        "print(\"\")\n",
        "arr_L = np.linspace(0, 5,7)\n",
        "print(arr_L)"
      ],
      "metadata": {
        "colab": {
          "base_uri": "https://localhost:8080/"
        },
        "id": "32BdZzFtVyU-",
        "outputId": "86550fd8-5d53-4e63-d76a-b7e3ad5aa4dc"
      },
      "execution_count": 6,
      "outputs": [
        {
          "output_type": "stream",
          "name": "stdout",
          "text": [
            "[[1. 1.]]\n",
            "\n",
            "[[7 7]\n",
            " [7 7]]\n",
            "\n",
            "[0.         0.83333333 1.66666667 2.5        3.33333333 4.16666667\n",
            " 5.        ]\n"
          ]
        }
      ]
    },
    {
      "cell_type": "code",
      "source": [
        "arr_a=np.arange(1, 10,1)\n",
        "print(arr_a)\n",
        "\n",
        "print(\"\")\n",
        "\n",
        "arr_r = np.random.random((2,2))  \n",
        "print(arr_r)\n",
        "\n",
        "print(\"\")\n",
        "\n",
        "arr_1= np.random.randint(10,100,7)  \n",
        "print(arr_1)\n",
        "\n",
        "print(\"\")\n",
        "arr_n= np.random.randn(10)  \n",
        "print(arr_n)\n",
        "\n",
        "print(\"\")\n",
        "arr_I = np.eye(2)\n",
        "print(arr_I)"
      ],
      "metadata": {
        "colab": {
          "base_uri": "https://localhost:8080/"
        },
        "id": "89U3S0J_Vy2r",
        "outputId": "717661dd-3883-4652-fbaf-241296fe3401"
      },
      "execution_count": 8,
      "outputs": [
        {
          "output_type": "stream",
          "name": "stdout",
          "text": [
            "[1 2 3 4 5 6 7 8 9]\n",
            "\n",
            "[[0.34652784 0.72550735]\n",
            " [0.37970704 0.17342547]]\n",
            "\n",
            "[57 33 24 86 69 61 95]\n",
            "\n",
            "[-0.21069812 -0.53802404  0.07834568 -0.6618651  -1.00677741  0.26698038\n",
            "  0.56521896  0.53911041 -0.44187527  1.28870099]\n",
            "\n",
            "[[1. 0.]\n",
            " [0. 1.]]\n"
          ]
        }
      ]
    },
    {
      "cell_type": "code",
      "source": [
        "x = [1,2,3] \n",
        "a = np.asarray(x) \n",
        "print (a)\n",
        "x_1 = (1,2,3) \n",
        "a_1 = np.asarray(x_1) \n",
        "print (a_1)\n",
        "x_2 = [(1,2,3),(4,5)] \n",
        "a_2 = np.asarray(x_2) \n",
        "print (a_2)"
      ],
      "metadata": {
        "colab": {
          "base_uri": "https://localhost:8080/"
        },
        "id": "kOgQr2tPVzLc",
        "outputId": "160702ef-aed9-4a0c-8ea9-a8c78ed3198c"
      },
      "execution_count": 9,
      "outputs": [
        {
          "output_type": "stream",
          "name": "stdout",
          "text": [
            "[1 2 3]\n",
            "[1 2 3]\n",
            "[(1, 2, 3) (4, 5)]\n"
          ]
        },
        {
          "output_type": "stream",
          "name": "stderr",
          "text": [
            "<ipython-input-9-fbade1d0810c>:8: VisibleDeprecationWarning: Creating an ndarray from ragged nested sequences (which is a list-or-tuple of lists-or-tuples-or ndarrays with different lengths or shapes) is deprecated. If you meant to do this, you must specify 'dtype=object' when creating the ndarray.\n",
            "  a_2 = np.asarray(x_2)\n"
          ]
        }
      ]
    },
    {
      "cell_type": "code",
      "source": [
        "import numpy as np \n",
        "arr = np.array([[1,2,3],[4,5,6]]) \n",
        "print (arr.shape)\n",
        "a = np.array([[1,2,3],[4,5,6]]) \n",
        "a.shape = (3,2) \n",
        "print (a)"
      ],
      "metadata": {
        "id": "aOa6lqAwVze_"
      },
      "execution_count": null,
      "outputs": []
    },
    {
      "cell_type": "code",
      "source": [
        "import numpy as np \n",
        "x = np.array([[3,2,1],[4,6,1]]) \n",
        "print(x.size)"
      ],
      "metadata": {
        "id": "PvqRaR83VzyS"
      },
      "execution_count": null,
      "outputs": []
    },
    {
      "cell_type": "code",
      "source": [
        "import numpy as np \n",
        "a = np.array([[1,2,3],[4,5,6]]) \n",
        "a.itemsize\n"
      ],
      "metadata": {
        "colab": {
          "base_uri": "https://localhost:8080/"
        },
        "id": "uWm7g5weV0D8",
        "outputId": "7c3e3c3f-6d9d-4aec-9fa8-ddf98ca3f20f"
      },
      "execution_count": 11,
      "outputs": [
        {
          "output_type": "execute_result",
          "data": {
            "text/plain": [
              "8"
            ]
          },
          "metadata": {},
          "execution_count": 11
        }
      ]
    },
    {
      "cell_type": "code",
      "source": [
        "import numpy as np\n",
        "a = np.array([[1,2,3],[4,5,6]]) \n",
        "a.ndim"
      ],
      "metadata": {
        "id": "22V971-vV0lN"
      },
      "execution_count": null,
      "outputs": []
    },
    {
      "cell_type": "code",
      "source": [
        "import numpy as np \n",
        "arr = np.array([[1,2,3],[4,5,6]]) \n",
        "print (arr)\n",
        "print(arr.dtype)"
      ],
      "metadata": {
        "id": "9uhE1dHgV041"
      },
      "execution_count": null,
      "outputs": []
    },
    {
      "cell_type": "code",
      "source": [
        "import numpy as np \n",
        "a = np.array([[1,2,3],[4,5,6]]) \n",
        "a.nbytes"
      ],
      "metadata": {
        "id": "kDBxmDv1V1K6"
      },
      "execution_count": null,
      "outputs": []
    },
    {
      "cell_type": "code",
      "source": [
        "import numpy as np\n",
        "arr = np.arange(10)\n",
        "print(arr[0:5])\n",
        "print(arr[-4:-1])"
      ],
      "metadata": {
        "colab": {
          "base_uri": "https://localhost:8080/"
        },
        "id": "zqbq_dHJYVf3",
        "outputId": "81b7b94e-567d-42f0-c069-1d771080fe9e"
      },
      "execution_count": 12,
      "outputs": [
        {
          "output_type": "stream",
          "name": "stdout",
          "text": [
            "[0 1 2 3 4]\n",
            "[6 7 8]\n"
          ]
        }
      ]
    },
    {
      "cell_type": "code",
      "source": [
        "import numpy as np \n",
        "arr = np.arange(10)\n",
        "#Slicing single element\n",
        "slice_arr = arr[2] \n",
        "print (slice_arr)\n",
        "print (arr[2:5])\n",
        "s = slice(2,7,2) \n",
        "print (arr[s])\n",
        "slice_arr = arr[2:7:2] \n",
        "print (slice_arr)"
      ],
      "metadata": {
        "id": "omFV1FwFYVzl"
      },
      "execution_count": null,
      "outputs": []
    },
    {
      "cell_type": "code",
      "source": [
        "x= np.array([11,12,13,14,15])\n",
        "print(np.take(x, [0, 3,4]))\n",
        "print(arr[:5])"
      ],
      "metadata": {
        "colab": {
          "base_uri": "https://localhost:8080/"
        },
        "id": "Iybu0ynmYWJz",
        "outputId": "f6ffdbe0-4d15-4a48-8020-18e22a716bf6"
      },
      "execution_count": 14,
      "outputs": [
        {
          "output_type": "stream",
          "name": "stdout",
          "text": [
            "[11 14 15]\n",
            "[0 1 2 3 4]\n"
          ]
        }
      ]
    },
    {
      "cell_type": "code",
      "source": [
        "import numpy as np \n",
        "arr = np.array([[1,2,3],[3,4,5],[4,5,6]])\n",
        "print (arr)\n",
        "print (arr[0:1])\n",
        "print (arr[1:])\n",
        "print (arr[0:3,0:1])\n",
        "print (arr[1:2,1:2])"
      ],
      "metadata": {
        "colab": {
          "base_uri": "https://localhost:8080/"
        },
        "id": "T0T03boUYXoq",
        "outputId": "38a7a1a1-76d5-487d-8a92-70d5b028869d"
      },
      "execution_count": 16,
      "outputs": [
        {
          "output_type": "stream",
          "name": "stdout",
          "text": [
            "[[1 2 3]\n",
            " [3 4 5]\n",
            " [4 5 6]]\n",
            "[[1 2 3]]\n",
            "[[3 4 5]\n",
            " [4 5 6]]\n",
            "[[1]\n",
            " [3]\n",
            " [4]]\n",
            "[[4]]\n"
          ]
        }
      ]
    },
    {
      "cell_type": "code",
      "source": [
        "import numpy as np\n",
        "arr_1 = np.array([1, 2, 3])\n",
        "arr_2 = np.array([2, 3, 4])\n",
        "arr_stack=np.stack((arr_1,arr_2),axis=0)\n",
        "print(arr_stack)\n",
        "print(arr_stack.shape)"
      ],
      "metadata": {
        "colab": {
          "base_uri": "https://localhost:8080/"
        },
        "id": "qBJ161JQYX4h",
        "outputId": "85856307-adea-4a8f-8527-db81752eca95"
      },
      "execution_count": 15,
      "outputs": [
        {
          "output_type": "stream",
          "name": "stdout",
          "text": [
            "[[1 2 3]\n",
            " [2 3 4]]\n",
            "(2, 3)\n"
          ]
        }
      ]
    },
    {
      "cell_type": "code",
      "source": [
        "arr_stack=np.stack((arr_1,arr_2),axis=1)\n",
        "print(arr_stack)\n",
        "print(arr_stack.shape)"
      ],
      "metadata": {
        "id": "vl8u-ceFYYMD"
      },
      "execution_count": null,
      "outputs": []
    },
    {
      "cell_type": "code",
      "source": [
        "arr_1 = np.random.randint(10, size=(2, 2))\n",
        "print(\" arr_1\\n\", arr_1)\n",
        "arr_2 = np.random.randint(10, size=(2, 2))\n",
        "print(\" arr_2\\n\", arr_2)"
      ],
      "metadata": {
        "id": "JDl4rdgeYYjW"
      },
      "execution_count": null,
      "outputs": []
    },
    {
      "cell_type": "code",
      "source": [
        "a=np.vstack((arr_1, arr_2))\n",
        "print(a)"
      ],
      "metadata": {
        "id": "ohzjiD4Pakky"
      },
      "execution_count": null,
      "outputs": []
    },
    {
      "cell_type": "code",
      "source": [
        "# Stacking  horizontally\n",
        "b=np.hstack((arr_1, arr_2))\n",
        "print(b)"
      ],
      "metadata": {
        "id": "U5Pht1NXak2H"
      },
      "execution_count": null,
      "outputs": []
    },
    {
      "cell_type": "code",
      "source": [
        "#stacking depth wise\n",
        "c=np.dstack((arr_1, arr_2))\n",
        "print(c)"
      ],
      "metadata": {
        "id": "H2rviOjKalGU"
      },
      "execution_count": null,
      "outputs": []
    },
    {
      "cell_type": "code",
      "source": [
        "# column_stack()\n",
        "b=np.column_stack((arr_1, arr_2))\n",
        "print(b)"
      ],
      "metadata": {
        "id": "2HOKheXualWF"
      },
      "execution_count": null,
      "outputs": []
    },
    {
      "cell_type": "code",
      "source": [
        "x = np.arange(9.0)\n",
        "np.split(x, 3)"
      ],
      "metadata": {
        "id": "5McVMmlKalme"
      },
      "execution_count": null,
      "outputs": []
    },
    {
      "cell_type": "code",
      "source": [
        "x = np.arange(8.0)\n",
        "np.array_split(x, 3)\n",
        "x = np.arange(7.0)\n",
        "np.array_split(x, 3)"
      ],
      "metadata": {
        "id": "8x8wFo6Mal2S"
      },
      "execution_count": null,
      "outputs": []
    },
    {
      "cell_type": "code",
      "source": [
        "arr_1 = np.arange(16.0).reshape(4, 4)\n",
        "arr_1\n",
        "np.hsplit(arr_1, 2)\n",
        "np.hsplit(arr_1, np.array([3, 6]))"
      ],
      "metadata": {
        "id": "QQ9ve9U0amJ_"
      },
      "execution_count": null,
      "outputs": []
    },
    {
      "cell_type": "code",
      "source": [
        "arr_1= np.arange(16.0).reshape(4, 4)\n",
        "arr_1"
      ],
      "metadata": {
        "id": "nnDApD-YamXg"
      },
      "execution_count": null,
      "outputs": []
    },
    {
      "cell_type": "code",
      "source": [
        "np.vsplit(arr_1, 2)\n",
        "np.vsplit(arr_1, np.array([3, 6]))"
      ],
      "metadata": {
        "id": "TQ8hblCUamjy"
      },
      "execution_count": null,
      "outputs": []
    },
    {
      "cell_type": "code",
      "source": [
        "import numpy as np\n",
        "arr_3 = np.array([1, 2, 3, 4])\n",
        "arr_4 = np.array([2, 4, 6, 8])\n",
        "# Add values\n",
        "print(arr_3 + arr_4)\n",
        "print(arr_3 - arr_4)"
      ],
      "metadata": {
        "id": "owddoTxQamvt"
      },
      "execution_count": null,
      "outputs": []
    },
    {
      "cell_type": "code",
      "source": [
        "#Random 2 by 3 digit 2D array between 0 to 100\n",
        "arr_6 =np.random.randint(100, size=(2, 3))\n",
        "print(arr_6)\n",
        "# Sum of values in array\n",
        "a=arr_3.sum()\n",
        "print(a)\n",
        "# Sum columns\n",
        "c=arr_6.sum(axis=0)\n",
        "print(c)\n",
        "# Cumulative sum of rows\n",
        "b=arr_6.cumsum(axis=1)\n",
        "print(b)"
      ],
      "metadata": {
        "id": "B8xT6fsPam74"
      },
      "execution_count": null,
      "outputs": []
    },
    {
      "cell_type": "code",
      "source": [
        "arr=np.array([[62, 96, 50],\n",
        "       [87, 26, 42]])\n",
        "# Min of each row\n",
        "print(arr.min(axis=1))\n",
        "# Max of each column\n",
        "print(arr.max(axis=0))"
      ],
      "metadata": {
        "id": "98AddveYbLsp"
      },
      "execution_count": null,
      "outputs": []
    },
    {
      "cell_type": "code",
      "source": [
        "print(np.absolute([-1, -2]))"
      ],
      "metadata": {
        "id": "S-CNB3OhbMAk"
      },
      "execution_count": null,
      "outputs": []
    },
    {
      "cell_type": "code",
      "source": [
        "arr_5 = np.array([[1, 2], [3, 4]])\n",
        "arr_6 = np.array([[2, 4], [6, 9]])\n",
        "# Return values in 1st array to powers defined in 2nd array\n",
        "print(np.power(arr_5, arr_6))"
      ],
      "metadata": {
        "id": "_3reNJvTbMPz"
      },
      "execution_count": null,
      "outputs": []
    },
    {
      "cell_type": "code",
      "source": [
        "arr_3 = np.array([1, 2, 3, 4])\n",
        "#Square Root\n",
        "print(np.sqrt(arr_3))\n",
        "print(np.cbrt(arr_3))"
      ],
      "metadata": {
        "colab": {
          "base_uri": "https://localhost:8080/"
        },
        "id": "8gUMn7_jbMmi",
        "outputId": "63d9c3f1-bc68-4bdb-9bdd-4d392d9e424c"
      },
      "execution_count": 17,
      "outputs": [
        {
          "output_type": "stream",
          "name": "stdout",
          "text": [
            "[1.         1.41421356 1.73205081 2.        ]\n",
            "[1.         1.25992105 1.44224957 1.58740105]\n"
          ]
        }
      ]
    },
    {
      "cell_type": "code",
      "source": [
        "arr_3 = np.array([1, 2, 3, 4])\n",
        "#Exponential of all elements in array\n",
        "print(np.exp(arr_3))\n",
        "print(\"\")\n",
        "\n",
        "print(np.log(arr_3))\n",
        "print(\"\")\n",
        "\n",
        "print(np.log2(arr_3))\n",
        "print(\"\")\n",
        "\n",
        "print(np.log10(arr_3))\n",
        "print(\"\")\n",
        "\n",
        "print(np.gcd.reduce([9, 12, 15]))\n",
        "print(\"\")\n",
        "\n",
        "print(np.lcm.reduce([9, 12, 15]))\n",
        "print(\"\")\n",
        "\n",
        "print(np.floor([1.2, 2.5]))\n",
        "print(\"\")\n",
        "\n",
        "print(np.ceil([1.2, 2.5]))\n",
        "print(\"\")"
      ],
      "metadata": {
        "colab": {
          "base_uri": "https://localhost:8080/"
        },
        "id": "2ssLKy5CbM67",
        "outputId": "121caa83-e56c-440b-aae6-713daed45dd9"
      },
      "execution_count": 19,
      "outputs": [
        {
          "output_type": "stream",
          "name": "stdout",
          "text": [
            "[ 2.71828183  7.3890561  20.08553692 54.59815003]\n",
            "\n",
            "[0.         0.69314718 1.09861229 1.38629436]\n",
            "\n",
            "[0.        1.        1.5849625 2.       ]\n",
            "\n",
            "[0.         0.30103    0.47712125 0.60205999]\n",
            "\n",
            "3\n",
            "\n",
            "180\n",
            "\n",
            "[1. 2.]\n",
            "\n",
            "[2. 3.]\n",
            "\n"
          ]
        }
      ]
    },
    {
      "cell_type": "code",
      "source": [
        "import numpy as np\n",
        "import matplotlib.pyplot as plt\n",
        "# Generate array of 200 values between -pi & pi\n",
        "t_arr = np.linspace(-2*np.pi, 2*np.pi, 200)\n",
        "fig = plt.figure()\n",
        "ax = plt.axes()\n",
        "ax.grid(color='black', linestyle='-', linewidth=2,alpha=0.1)\n",
        "# Plotting Sin(X)\n",
        "plt.plot(t_arr, np.sin(t_arr),color='black') # SIN\n",
        "plt.title(\"sin(x)\")\n",
        "# Display plot\n",
        "plt.show()"
      ],
      "metadata": {
        "colab": {
          "base_uri": "https://localhost:8080/",
          "height": 452
        },
        "id": "MGkNahYDbNOW",
        "outputId": "0cd265f0-b380-4ff2-9b41-4d56dc7ce493"
      },
      "execution_count": 20,
      "outputs": [
        {
          "output_type": "display_data",
          "data": {
            "text/plain": [
              "<Figure size 640x480 with 1 Axes>"
            ],
            "image/png": "[encoded data removed]"
          },
          "metadata": {}
        }
      ]
    },
    {
      "cell_type": "code",
      "source": [
        "#plotting cos(x)\n",
        "plt.plot(t_arr, np.cos(t_arr),color='darkorange') # COS\n",
        "plt.title(\"cos(x)\")\n",
        "\n",
        "#plotting tan(x)\n",
        "#plt.plot(t_arr, np.tan(t_arr),color='skyblue') # TAN\n",
        "#plt.title(\"tan(x)\")"
      ],
      "metadata": {
        "colab": {
          "base_uri": "https://localhost:8080/",
          "height": 469
        },
        "id": "L9jBnUM9bNkl",
        "outputId": "b783b45b-b812-45a0-ddeb-f4fc81552468"
      },
      "execution_count": 22,
      "outputs": [
        {
          "output_type": "execute_result",
          "data": {
            "text/plain": [
              "Text(0.5, 1.0, 'cos(x)')"
            ]
          },
          "metadata": {},
          "execution_count": 22
        },
        {
          "output_type": "display_data",
          "data": {
            "text/plain": [
              "<Figure size 640x480 with 1 Axes>"
            ],
            "image/png": "[encoded data removed]"
          },
          "metadata": {}
        }
      ]
    },
    {
      "cell_type": "code",
      "source": [
        "#plotting tan(x)\n",
        "plt.plot(t_arr, np.tan(t_arr),color='skyblue') # TAN\n",
        "plt.title(\"tan(x)\")"
      ],
      "metadata": {
        "id": "qKRhQhSEbN2E"
      },
      "execution_count": null,
      "outputs": []
    },
    {
      "cell_type": "code",
      "source": [
        "plt.plot(t_arr, np.sin(t_arr),color='black',label='sin(x)') # SIN\n",
        "plt.plot(t_arr, np.cos(t_arr),color='darkorange',label='cos(x)') # COS\n",
        "plt.plot(t_arr, np.tan(t_arr),color='skyblue',label='tan(x)') # TAN\n",
        "plt.legend(loc='best')\n",
        "plt.show()"
      ],
      "metadata": {
        "id": "hh8l7N43cIac"
      },
      "execution_count": null,
      "outputs": []
    },
    {
      "cell_type": "code",
      "source": [
        "# Provides inverse \n",
        "print(np.arcsin(1))\n",
        "print(np.arccos(1))\n",
        "print(np.arctan(0))"
      ],
      "metadata": {
        "id": "YjlYUZMrcIo6"
      },
      "execution_count": null,
      "outputs": []
    },
    {
      "cell_type": "code",
      "source": [
        "# Radians to degrees\n",
        "print(np.rad2deg(np.pi))\n",
        "print(np.deg2rad(180))"
      ],
      "metadata": {
        "id": "cZoz5kqCcI4q"
      },
      "execution_count": null,
      "outputs": []
    },
    {
      "cell_type": "code",
      "source": [
        "import numpy as np\n",
        "import matplotlib.pyplot as plt\n",
        "from mpl_toolkits.mplot3d import Axes3D\n",
        "v3=[ 4, 6 , 7 ]\n",
        "v2= [ 4 ,7 ,9 ]\n",
        "v3t = np.transpose(v3)\n",
        "print(v3t)"
      ],
      "metadata": {
        "id": "OVPh4g6IcJHs"
      },
      "execution_count": null,
      "outputs": []
    },
    {
      "cell_type": "code",
      "source": [
        "#taking 2 vectors of same dimention\n",
        "v1 = np.array([ 2 ,6 ])\n",
        "v2 = np.array([ 5 ,7 ])\n",
        "v3 = v1+v2 #Addition\n",
        "print(v3)\n",
        "v4 = v2-v1 #Subtraction\n",
        "print(v4)\n",
        "# VECTOR SCALAR PRODUCT\n",
        "v1 = np.array([ 9 ,2 ]) \n",
        "c= 0.7\n",
        "v2= c*v1\n",
        "print(v2)"
      ],
      "metadata": {
        "colab": {
          "base_uri": "https://localhost:8080/"
        },
        "id": "onCcDSFMcJb4",
        "outputId": "cd40461b-f5c3-4ed6-8bdf-fc83a16546d6"
      },
      "execution_count": 24,
      "outputs": [
        {
          "output_type": "stream",
          "name": "stdout",
          "text": [
            "[ 7 13]\n",
            "[3 1]\n",
            "[6.3 1.4]\n"
          ]
        }
      ]
    },
    {
      "cell_type": "code",
      "source": [
        "# dot product \n",
        "v1 = np.array([ 4 ,3 ,9 ])\n",
        "v2 = np.array([ 1 ,2 ,3 ])\n",
        "#method 1\n",
        "D_P1 = sum( np.multiply(v1,v2)  )\n",
        "print(D_P1)\n",
        "\n",
        "print(\"\")\n",
        "# create vectors\n",
        "w1 = [ 1, 3, 5 ]\n",
        "w2 = [ 3, 4, 2 ]\n",
        "w3 = np.multiply(w1,w2)\n",
        "print(w3)"
      ],
      "metadata": {
        "colab": {
          "base_uri": "https://localhost:8080/"
        },
        "id": "c6hIY6YHcaI5",
        "outputId": "1a02539c-bdcd-4946-ad7f-83255de4d514"
      },
      "execution_count": 25,
      "outputs": [
        {
          "output_type": "stream",
          "name": "stdout",
          "text": [
            "37\n",
            "\n",
            "[ 3 12 10]\n"
          ]
        }
      ]
    },
    {
      "cell_type": "code",
      "source": [
        "v1 = np.array([3,9,9])\n",
        "v2 = np.array([2,3,4])\n",
        "v3 = np.cross (v1,v2)\n",
        "print (v3)"
      ],
      "metadata": {
        "colab": {
          "base_uri": "https://localhost:8080/"
        },
        "id": "Kwfi22Q6caav",
        "outputId": "81dd2154-73c1-48bd-a5bf-a6fc3c6cafcc"
      },
      "execution_count": 27,
      "outputs": [
        {
          "output_type": "stream",
          "name": "stdout",
          "text": [
            "[ 9  6 -9]\n"
          ]
        }
      ]
    },
    {
      "cell_type": "code",
      "source": [
        "import numpy as np\n",
        "#  vector \n",
        "v1 = np.array([ 3,4,6 ])\n",
        "# example method 1\n",
        "vl = np.sqrt( sum( np.multiply(v1,v1)) )\n",
        "print(vl)"
      ],
      "metadata": {
        "colab": {
          "base_uri": "https://localhost:8080/"
        },
        "id": "aBj2p7wrcapQ",
        "outputId": "9cc1e051-9672-4e94-c4f7-f4cca46547a2"
      },
      "execution_count": 28,
      "outputs": [
        {
          "output_type": "stream",
          "name": "stdout",
          "text": [
            "7.810249675906654\n"
          ]
        }
      ]
    }
  ]
}